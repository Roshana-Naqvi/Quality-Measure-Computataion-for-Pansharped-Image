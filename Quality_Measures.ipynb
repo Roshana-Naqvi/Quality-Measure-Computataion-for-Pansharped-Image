{
 "cells": [
  {
   "cell_type": "code",
   "execution_count": 59,
   "metadata": {},
   "outputs": [],
   "source": [
    "from scipy.io import loadmat\n",
    "from sewar.full_ref import ergas\n",
    "from sewar.full_ref import sam\n",
    "from sewar.full_ref import uqi"
   ]
  },
  {
   "cell_type": "code",
   "execution_count": 60,
   "metadata": {},
   "outputs": [],
   "source": [
    "#loading Data (mat format)\n",
    "img1= loadmat('GE_Patch1_recon.mat')\n",
    "LRMS=img1['k']\n",
    "img2= loadmat('GE_p1.mat')\n",
    "HRMS=img2['k']"
   ]
  },
  {
   "cell_type": "code",
   "execution_count": 61,
   "metadata": {},
   "outputs": [
    {
     "data": {
      "text/plain": [
       "(80, 80, 4)"
      ]
     },
     "execution_count": 61,
     "metadata": {},
     "output_type": "execute_result"
    }
   ],
   "source": [
    "LRMS.shape"
   ]
  },
  {
   "cell_type": "code",
   "execution_count": 62,
   "metadata": {},
   "outputs": [
    {
     "data": {
      "text/plain": [
       "(80, 80, 4)"
      ]
     },
     "execution_count": 62,
     "metadata": {},
     "output_type": "execute_result"
    }
   ],
   "source": [
    "HRMS.shape"
   ]
  },
  {
   "cell_type": "code",
   "execution_count": 63,
   "metadata": {},
   "outputs": [
    {
     "name": "stdout",
     "output_type": "stream",
     "text": [
      "Quality Mearsure: Ideal Value : Current\n",
      "           Ergas:      0      : 6828.079242095972\n",
      "             SAM:      0      : 0.022525020126356664\n",
      "            Uiqi:      1      : 0.9809812966065262\n"
     ]
    }
   ],
   "source": [
    "print(\"Quality Mearsure: Ideal Value : Current\")\n",
    "print('           Ergas:      0      :',ergas(LRMS,HRMS))\n",
    "print('             SAM:      0      :',sam(LRMS,HRMS))\n",
    "print('            Uiqi:      1      :', uqi(LRMS,HRMS))"
   ]
  }
 ],
 "metadata": {
  "kernelspec": {
   "display_name": "Python 3",
   "language": "python",
   "name": "python3"
  },
  "language_info": {
   "codemirror_mode": {
    "name": "ipython",
    "version": 3
   },
   "file_extension": ".py",
   "mimetype": "text/x-python",
   "name": "python",
   "nbconvert_exporter": "python",
   "pygments_lexer": "ipython3",
   "version": "3.7.3"
  }
 },
 "nbformat": 4,
 "nbformat_minor": 2
}
